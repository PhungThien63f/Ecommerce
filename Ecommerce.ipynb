{
 "cells": [
  {
   "cell_type": "code",
   "execution_count": 59,
   "metadata": {},
   "outputs": [],
   "source": [
    "import pandas as pd \n",
    "import seaborn as sns\n",
    "import matplotlib.pyplot as plt"
   ]
  },
  {
   "cell_type": "code",
   "execution_count": 60,
   "metadata": {},
   "outputs": [
    {
     "data": {
      "text/html": [
       "<div>\n",
       "<style scoped>\n",
       "    .dataframe tbody tr th:only-of-type {\n",
       "        vertical-align: middle;\n",
       "    }\n",
       "\n",
       "    .dataframe tbody tr th {\n",
       "        vertical-align: top;\n",
       "    }\n",
       "\n",
       "    .dataframe thead th {\n",
       "        text-align: right;\n",
       "    }\n",
       "</style>\n",
       "<table border=\"1\" class=\"dataframe\">\n",
       "  <thead>\n",
       "    <tr style=\"text-align: right;\">\n",
       "      <th></th>\n",
       "      <th>customer_city</th>\n",
       "      <th>customer_country</th>\n",
       "      <th>customer_fname</th>\n",
       "      <th>customer_id</th>\n",
       "      <th>customer_segment</th>\n",
       "      <th>customer_state</th>\n",
       "      <th>customer_zipcode</th>\n",
       "    </tr>\n",
       "  </thead>\n",
       "  <tbody>\n",
       "    <tr>\n",
       "      <th>0</th>\n",
       "      <td>Caguas</td>\n",
       "      <td>Puerto Rico</td>\n",
       "      <td>Sean</td>\n",
       "      <td>568</td>\n",
       "      <td>Consumer</td>\n",
       "      <td>PR</td>\n",
       "      <td>725.0</td>\n",
       "    </tr>\n",
       "    <tr>\n",
       "      <th>1</th>\n",
       "      <td>Caguas</td>\n",
       "      <td>Puerto Rico</td>\n",
       "      <td>Carol</td>\n",
       "      <td>3341</td>\n",
       "      <td>Consumer</td>\n",
       "      <td>PR</td>\n",
       "      <td>725.0</td>\n",
       "    </tr>\n",
       "    <tr>\n",
       "      <th>2</th>\n",
       "      <td>Mayaguez</td>\n",
       "      <td>Puerto Rico</td>\n",
       "      <td>Mary</td>\n",
       "      <td>7459</td>\n",
       "      <td>Consumer</td>\n",
       "      <td>PR</td>\n",
       "      <td>680.0</td>\n",
       "    </tr>\n",
       "    <tr>\n",
       "      <th>3</th>\n",
       "      <td>Mayaguez</td>\n",
       "      <td>Puerto Rico</td>\n",
       "      <td>Mary</td>\n",
       "      <td>7459</td>\n",
       "      <td>Consumer</td>\n",
       "      <td>PR</td>\n",
       "      <td>680.0</td>\n",
       "    </tr>\n",
       "    <tr>\n",
       "      <th>4</th>\n",
       "      <td>Caguas</td>\n",
       "      <td>Puerto Rico</td>\n",
       "      <td>Mary</td>\n",
       "      <td>10740</td>\n",
       "      <td>Consumer</td>\n",
       "      <td>PR</td>\n",
       "      <td>725.0</td>\n",
       "    </tr>\n",
       "    <tr>\n",
       "      <th>...</th>\n",
       "      <td>...</td>\n",
       "      <td>...</td>\n",
       "      <td>...</td>\n",
       "      <td>...</td>\n",
       "      <td>...</td>\n",
       "      <td>...</td>\n",
       "      <td>...</td>\n",
       "    </tr>\n",
       "    <tr>\n",
       "      <th>115741</th>\n",
       "      <td>Los Angeles</td>\n",
       "      <td>United States</td>\n",
       "      <td>Mary</td>\n",
       "      <td>2666</td>\n",
       "      <td>Corporate</td>\n",
       "      <td>CA</td>\n",
       "      <td>90033.0</td>\n",
       "    </tr>\n",
       "    <tr>\n",
       "      <th>115742</th>\n",
       "      <td>Upland</td>\n",
       "      <td>United States</td>\n",
       "      <td>Victoria</td>\n",
       "      <td>8100</td>\n",
       "      <td>Corporate</td>\n",
       "      <td>CA</td>\n",
       "      <td>91786.0</td>\n",
       "    </tr>\n",
       "    <tr>\n",
       "      <th>115743</th>\n",
       "      <td>Los Angeles</td>\n",
       "      <td>United States</td>\n",
       "      <td>Mary</td>\n",
       "      <td>2666</td>\n",
       "      <td>Corporate</td>\n",
       "      <td>CA</td>\n",
       "      <td>90033.0</td>\n",
       "    </tr>\n",
       "    <tr>\n",
       "      <th>115744</th>\n",
       "      <td>Los Angeles</td>\n",
       "      <td>United States</td>\n",
       "      <td>Mary</td>\n",
       "      <td>9547</td>\n",
       "      <td>Corporate</td>\n",
       "      <td>CA</td>\n",
       "      <td>90027.0</td>\n",
       "    </tr>\n",
       "    <tr>\n",
       "      <th>115745</th>\n",
       "      <td>Las Vegas</td>\n",
       "      <td>United States</td>\n",
       "      <td>Mary</td>\n",
       "      <td>11747</td>\n",
       "      <td>Corporate</td>\n",
       "      <td>NV</td>\n",
       "      <td>89123.0</td>\n",
       "    </tr>\n",
       "  </tbody>\n",
       "</table>\n",
       "<p>115746 rows × 7 columns</p>\n",
       "</div>"
      ],
      "text/plain": [
       "       customer_city customer_country customer_fname  customer_id  \\\n",
       "0             Caguas      Puerto Rico           Sean          568   \n",
       "1             Caguas      Puerto Rico          Carol         3341   \n",
       "2           Mayaguez      Puerto Rico           Mary         7459   \n",
       "3           Mayaguez      Puerto Rico           Mary         7459   \n",
       "4             Caguas      Puerto Rico           Mary        10740   \n",
       "...              ...              ...            ...          ...   \n",
       "115741   Los Angeles    United States           Mary         2666   \n",
       "115742        Upland    United States       Victoria         8100   \n",
       "115743   Los Angeles    United States           Mary         2666   \n",
       "115744   Los Angeles    United States           Mary         9547   \n",
       "115745     Las Vegas    United States           Mary        11747   \n",
       "\n",
       "       customer_segment customer_state  customer_zipcode  \n",
       "0              Consumer             PR             725.0  \n",
       "1              Consumer             PR             725.0  \n",
       "2              Consumer             PR             680.0  \n",
       "3              Consumer             PR             680.0  \n",
       "4              Consumer             PR             725.0  \n",
       "...                 ...            ...               ...  \n",
       "115741        Corporate             CA           90033.0  \n",
       "115742        Corporate             CA           91786.0  \n",
       "115743        Corporate             CA           90033.0  \n",
       "115744        Corporate             CA           90027.0  \n",
       "115745        Corporate             NV           89123.0  \n",
       "\n",
       "[115746 rows x 7 columns]"
      ]
     },
     "execution_count": 60,
     "metadata": {},
     "output_type": "execute_result"
    }
   ],
   "source": [
    "customer = pd.read_csv(\"D:/Tableau_PowerBI/Ecommerce/ecommerce_customer.csv\")\n",
    "customer"
   ]
  },
  {
   "cell_type": "code",
   "execution_count": 61,
   "metadata": {},
   "outputs": [
    {
     "data": {
      "text/html": [
       "<div>\n",
       "<style scoped>\n",
       "    .dataframe tbody tr th:only-of-type {\n",
       "        vertical-align: middle;\n",
       "    }\n",
       "\n",
       "    .dataframe tbody tr th {\n",
       "        vertical-align: top;\n",
       "    }\n",
       "\n",
       "    .dataframe thead th {\n",
       "        text-align: right;\n",
       "    }\n",
       "</style>\n",
       "<table border=\"1\" class=\"dataframe\">\n",
       "  <thead>\n",
       "    <tr style=\"text-align: right;\">\n",
       "      <th></th>\n",
       "      <th>additional_order_items</th>\n",
       "      <th>category_name</th>\n",
       "      <th>customer_id</th>\n",
       "      <th>market</th>\n",
       "      <th>order_date</th>\n",
       "      <th>order_id</th>\n",
       "      <th>order_region</th>\n",
       "      <th>order_quantity</th>\n",
       "      <th>product_price</th>\n",
       "      <th>profit_margin</th>\n",
       "      <th>profit_per_order</th>\n",
       "    </tr>\n",
       "  </thead>\n",
       "  <tbody>\n",
       "    <tr>\n",
       "      <th>0</th>\n",
       "      <td>Camping &amp; Hiking</td>\n",
       "      <td>Camping &amp; Hiking</td>\n",
       "      <td>568</td>\n",
       "      <td>LATAM</td>\n",
       "      <td>17-06-2017</td>\n",
       "      <td>61558</td>\n",
       "      <td>South America</td>\n",
       "      <td>1</td>\n",
       "      <td>299.980011</td>\n",
       "      <td>26.10%</td>\n",
       "      <td>78.290001</td>\n",
       "    </tr>\n",
       "    <tr>\n",
       "      <th>1</th>\n",
       "      <td>Camping &amp; Hiking</td>\n",
       "      <td>Camping &amp; Hiking</td>\n",
       "      <td>3341</td>\n",
       "      <td>LATAM</td>\n",
       "      <td>18-04-2017</td>\n",
       "      <td>57472</td>\n",
       "      <td>South America</td>\n",
       "      <td>1</td>\n",
       "      <td>299.980011</td>\n",
       "      <td>-5.40%</td>\n",
       "      <td>-16.200001</td>\n",
       "    </tr>\n",
       "    <tr>\n",
       "      <th>2</th>\n",
       "      <td>Camping &amp; Hiking</td>\n",
       "      <td>Camping &amp; Hiking</td>\n",
       "      <td>7459</td>\n",
       "      <td>LATAM</td>\n",
       "      <td>24-05-2017</td>\n",
       "      <td>59898</td>\n",
       "      <td>Central America</td>\n",
       "      <td>1</td>\n",
       "      <td>299.980011</td>\n",
       "      <td>3.90%</td>\n",
       "      <td>11.620000</td>\n",
       "    </tr>\n",
       "    <tr>\n",
       "      <th>3</th>\n",
       "      <td>Camping &amp; Hiking</td>\n",
       "      <td>Camping &amp; Hiking</td>\n",
       "      <td>7459</td>\n",
       "      <td>LATAM</td>\n",
       "      <td>24-05-2017</td>\n",
       "      <td>59898</td>\n",
       "      <td>Central America</td>\n",
       "      <td>1</td>\n",
       "      <td>299.980011</td>\n",
       "      <td>-1.10%</td>\n",
       "      <td>-3.390000</td>\n",
       "    </tr>\n",
       "    <tr>\n",
       "      <th>4</th>\n",
       "      <td>Hunting &amp; Shooting</td>\n",
       "      <td>Hunting &amp; Shooting</td>\n",
       "      <td>10740</td>\n",
       "      <td>LATAM</td>\n",
       "      <td>5/6/2017</td>\n",
       "      <td>58644</td>\n",
       "      <td>Central America</td>\n",
       "      <td>1</td>\n",
       "      <td>149.990005</td>\n",
       "      <td>-63.80%</td>\n",
       "      <td>-95.650002</td>\n",
       "    </tr>\n",
       "    <tr>\n",
       "      <th>...</th>\n",
       "      <td>...</td>\n",
       "      <td>...</td>\n",
       "      <td>...</td>\n",
       "      <td>...</td>\n",
       "      <td>...</td>\n",
       "      <td>...</td>\n",
       "      <td>...</td>\n",
       "      <td>...</td>\n",
       "      <td>...</td>\n",
       "      <td>...</td>\n",
       "      <td>...</td>\n",
       "    </tr>\n",
       "    <tr>\n",
       "      <th>115741</th>\n",
       "      <td>Water Sports</td>\n",
       "      <td>Water Sports</td>\n",
       "      <td>2666</td>\n",
       "      <td>USCA</td>\n",
       "      <td>13-04-2016</td>\n",
       "      <td>32105</td>\n",
       "      <td>US Center</td>\n",
       "      <td>1</td>\n",
       "      <td>199.990005</td>\n",
       "      <td>27.50%</td>\n",
       "      <td>55.090000</td>\n",
       "    </tr>\n",
       "    <tr>\n",
       "      <th>115742</th>\n",
       "      <td>Shop By Sport</td>\n",
       "      <td>Shop By Sport</td>\n",
       "      <td>8100</td>\n",
       "      <td>USCA</td>\n",
       "      <td>7/2/2016</td>\n",
       "      <td>37555</td>\n",
       "      <td>East of USA</td>\n",
       "      <td>1</td>\n",
       "      <td>39.990002</td>\n",
       "      <td>37.40%</td>\n",
       "      <td>14.940000</td>\n",
       "    </tr>\n",
       "    <tr>\n",
       "      <th>115743</th>\n",
       "      <td>Fishing</td>\n",
       "      <td>Fishing</td>\n",
       "      <td>2666</td>\n",
       "      <td>USCA</td>\n",
       "      <td>13-04-2016</td>\n",
       "      <td>32105</td>\n",
       "      <td>US Center</td>\n",
       "      <td>1</td>\n",
       "      <td>399.980011</td>\n",
       "      <td>39.80%</td>\n",
       "      <td>159.350006</td>\n",
       "    </tr>\n",
       "    <tr>\n",
       "      <th>115744</th>\n",
       "      <td>Fishing</td>\n",
       "      <td>Fishing</td>\n",
       "      <td>9547</td>\n",
       "      <td>USCA</td>\n",
       "      <td>8/6/2016</td>\n",
       "      <td>39980</td>\n",
       "      <td>West of USA</td>\n",
       "      <td>1</td>\n",
       "      <td>399.980011</td>\n",
       "      <td>24.90%</td>\n",
       "      <td>99.599998</td>\n",
       "    </tr>\n",
       "    <tr>\n",
       "      <th>115745</th>\n",
       "      <td>Golf Balls</td>\n",
       "      <td>Golf Balls</td>\n",
       "      <td>11747</td>\n",
       "      <td>USCA</td>\n",
       "      <td>26-04-2016</td>\n",
       "      <td>32995</td>\n",
       "      <td>West of USA</td>\n",
       "      <td>1</td>\n",
       "      <td>14.990000</td>\n",
       "      <td>39.80%</td>\n",
       "      <td>5.970000</td>\n",
       "    </tr>\n",
       "  </tbody>\n",
       "</table>\n",
       "<p>115746 rows × 11 columns</p>\n",
       "</div>"
      ],
      "text/plain": [
       "       additional_order_items       category_name  customer_id market  \\\n",
       "0            Camping & Hiking    Camping & Hiking          568  LATAM   \n",
       "1            Camping & Hiking    Camping & Hiking         3341  LATAM   \n",
       "2            Camping & Hiking    Camping & Hiking         7459  LATAM   \n",
       "3            Camping & Hiking    Camping & Hiking         7459  LATAM   \n",
       "4          Hunting & Shooting  Hunting & Shooting        10740  LATAM   \n",
       "...                       ...                 ...          ...    ...   \n",
       "115741           Water Sports        Water Sports         2666   USCA   \n",
       "115742          Shop By Sport       Shop By Sport         8100   USCA   \n",
       "115743                Fishing             Fishing         2666   USCA   \n",
       "115744                Fishing             Fishing         9547   USCA   \n",
       "115745             Golf Balls          Golf Balls        11747   USCA   \n",
       "\n",
       "        order_date  order_id     order_region  order_quantity  product_price  \\\n",
       "0       17-06-2017     61558    South America               1     299.980011   \n",
       "1       18-04-2017     57472    South America               1     299.980011   \n",
       "2       24-05-2017     59898  Central America               1     299.980011   \n",
       "3       24-05-2017     59898  Central America               1     299.980011   \n",
       "4         5/6/2017     58644  Central America               1     149.990005   \n",
       "...            ...       ...              ...             ...            ...   \n",
       "115741  13-04-2016     32105        US Center               1     199.990005   \n",
       "115742    7/2/2016     37555      East of USA               1      39.990002   \n",
       "115743  13-04-2016     32105        US Center               1     399.980011   \n",
       "115744    8/6/2016     39980      West of USA               1     399.980011   \n",
       "115745  26-04-2016     32995      West of USA               1      14.990000   \n",
       "\n",
       "       profit_margin  profit_per_order  \n",
       "0             26.10%         78.290001  \n",
       "1             -5.40%        -16.200001  \n",
       "2              3.90%         11.620000  \n",
       "3             -1.10%         -3.390000  \n",
       "4            -63.80%        -95.650002  \n",
       "...              ...               ...  \n",
       "115741        27.50%         55.090000  \n",
       "115742        37.40%         14.940000  \n",
       "115743        39.80%        159.350006  \n",
       "115744        24.90%         99.599998  \n",
       "115745        39.80%          5.970000  \n",
       "\n",
       "[115746 rows x 11 columns]"
      ]
     },
     "execution_count": 61,
     "metadata": {},
     "output_type": "execute_result"
    }
   ],
   "source": [
    "order = pd.read_csv(\"D:/Tableau_PowerBI/Ecommerce/ecommerce_order.csv\")\n",
    "order"
   ]
  },
  {
   "cell_type": "markdown",
   "metadata": {},
   "source": [
    "##  Data Dictionary & Data Quality Assessment"
   ]
  },
  {
   "cell_type": "markdown",
   "metadata": {},
   "source": [
    "### Merge data"
   ]
  },
  {
   "cell_type": "code",
   "execution_count": 62,
   "metadata": {},
   "outputs": [
    {
     "data": {
      "text/html": [
       "<div>\n",
       "<style scoped>\n",
       "    .dataframe tbody tr th:only-of-type {\n",
       "        vertical-align: middle;\n",
       "    }\n",
       "\n",
       "    .dataframe tbody tr th {\n",
       "        vertical-align: top;\n",
       "    }\n",
       "\n",
       "    .dataframe thead th {\n",
       "        text-align: right;\n",
       "    }\n",
       "</style>\n",
       "<table border=\"1\" class=\"dataframe\">\n",
       "  <thead>\n",
       "    <tr style=\"text-align: right;\">\n",
       "      <th></th>\n",
       "      <th>customer_city</th>\n",
       "      <th>customer_country</th>\n",
       "      <th>customer_fname</th>\n",
       "      <th>customer_id</th>\n",
       "      <th>customer_segment</th>\n",
       "      <th>customer_state</th>\n",
       "      <th>customer_zipcode</th>\n",
       "      <th>additional_order_items</th>\n",
       "      <th>category_name</th>\n",
       "      <th>market</th>\n",
       "      <th>order_date</th>\n",
       "      <th>order_id</th>\n",
       "      <th>order_region</th>\n",
       "      <th>order_quantity</th>\n",
       "      <th>product_price</th>\n",
       "      <th>profit_margin</th>\n",
       "      <th>profit_per_order</th>\n",
       "    </tr>\n",
       "  </thead>\n",
       "  <tbody>\n",
       "    <tr>\n",
       "      <th>0</th>\n",
       "      <td>Caguas</td>\n",
       "      <td>Puerto Rico</td>\n",
       "      <td>Sean</td>\n",
       "      <td>568</td>\n",
       "      <td>Consumer</td>\n",
       "      <td>PR</td>\n",
       "      <td>725.0</td>\n",
       "      <td>Camping &amp; Hiking</td>\n",
       "      <td>Camping &amp; Hiking</td>\n",
       "      <td>LATAM</td>\n",
       "      <td>17-06-2017</td>\n",
       "      <td>61558</td>\n",
       "      <td>South America</td>\n",
       "      <td>1</td>\n",
       "      <td>299.980011</td>\n",
       "      <td>26.10%</td>\n",
       "      <td>78.290001</td>\n",
       "    </tr>\n",
       "    <tr>\n",
       "      <th>1</th>\n",
       "      <td>Caguas</td>\n",
       "      <td>Puerto Rico</td>\n",
       "      <td>Sean</td>\n",
       "      <td>568</td>\n",
       "      <td>Consumer</td>\n",
       "      <td>PR</td>\n",
       "      <td>725.0</td>\n",
       "      <td>Indoor/Outdoor Games</td>\n",
       "      <td>Indoor/Outdoor Games</td>\n",
       "      <td>LATAM</td>\n",
       "      <td>17-06-2017</td>\n",
       "      <td>61558</td>\n",
       "      <td>South America</td>\n",
       "      <td>5</td>\n",
       "      <td>49.980000</td>\n",
       "      <td>31.30%</td>\n",
       "      <td>15.640000</td>\n",
       "    </tr>\n",
       "    <tr>\n",
       "      <th>2</th>\n",
       "      <td>Caguas</td>\n",
       "      <td>Puerto Rico</td>\n",
       "      <td>Sean</td>\n",
       "      <td>568</td>\n",
       "      <td>Consumer</td>\n",
       "      <td>PR</td>\n",
       "      <td>725.0</td>\n",
       "      <td>Men's Footwear</td>\n",
       "      <td>Men's Footwear</td>\n",
       "      <td>LATAM</td>\n",
       "      <td>17-06-2017</td>\n",
       "      <td>61558</td>\n",
       "      <td>South America</td>\n",
       "      <td>5</td>\n",
       "      <td>129.990005</td>\n",
       "      <td>30.10%</td>\n",
       "      <td>39.160000</td>\n",
       "    </tr>\n",
       "    <tr>\n",
       "      <th>3</th>\n",
       "      <td>Caguas</td>\n",
       "      <td>Puerto Rico</td>\n",
       "      <td>Sean</td>\n",
       "      <td>568</td>\n",
       "      <td>Consumer</td>\n",
       "      <td>PR</td>\n",
       "      <td>725.0</td>\n",
       "      <td>Kids' Golf Clubs</td>\n",
       "      <td>Kids' Golf Clubs</td>\n",
       "      <td>LATAM</td>\n",
       "      <td>17-06-2017</td>\n",
       "      <td>61558</td>\n",
       "      <td>South America</td>\n",
       "      <td>5</td>\n",
       "      <td>99.949997</td>\n",
       "      <td>-216.00%</td>\n",
       "      <td>-431.779999</td>\n",
       "    </tr>\n",
       "    <tr>\n",
       "      <th>4</th>\n",
       "      <td>Caguas</td>\n",
       "      <td>Puerto Rico</td>\n",
       "      <td>Sean</td>\n",
       "      <td>568</td>\n",
       "      <td>Consumer</td>\n",
       "      <td>PR</td>\n",
       "      <td>725.0</td>\n",
       "      <td>Women's Apparel</td>\n",
       "      <td>Women's Apparel</td>\n",
       "      <td>LATAM</td>\n",
       "      <td>17-06-2017</td>\n",
       "      <td>61558</td>\n",
       "      <td>South America</td>\n",
       "      <td>5</td>\n",
       "      <td>50.000000</td>\n",
       "      <td>13.90%</td>\n",
       "      <td>20.879999</td>\n",
       "    </tr>\n",
       "  </tbody>\n",
       "</table>\n",
       "</div>"
      ],
      "text/plain": [
       "  customer_city customer_country customer_fname  customer_id customer_segment  \\\n",
       "0        Caguas      Puerto Rico           Sean          568         Consumer   \n",
       "1        Caguas      Puerto Rico           Sean          568         Consumer   \n",
       "2        Caguas      Puerto Rico           Sean          568         Consumer   \n",
       "3        Caguas      Puerto Rico           Sean          568         Consumer   \n",
       "4        Caguas      Puerto Rico           Sean          568         Consumer   \n",
       "\n",
       "  customer_state  customer_zipcode additional_order_items  \\\n",
       "0             PR             725.0       Camping & Hiking   \n",
       "1             PR             725.0   Indoor/Outdoor Games   \n",
       "2             PR             725.0         Men's Footwear   \n",
       "3             PR             725.0       Kids' Golf Clubs   \n",
       "4             PR             725.0        Women's Apparel   \n",
       "\n",
       "          category_name market  order_date  order_id   order_region  \\\n",
       "0      Camping & Hiking  LATAM  17-06-2017     61558  South America   \n",
       "1  Indoor/Outdoor Games  LATAM  17-06-2017     61558  South America   \n",
       "2        Men's Footwear  LATAM  17-06-2017     61558  South America   \n",
       "3      Kids' Golf Clubs  LATAM  17-06-2017     61558  South America   \n",
       "4       Women's Apparel  LATAM  17-06-2017     61558  South America   \n",
       "\n",
       "   order_quantity  product_price profit_margin  profit_per_order  \n",
       "0               1     299.980011        26.10%         78.290001  \n",
       "1               5      49.980000        31.30%         15.640000  \n",
       "2               5     129.990005        30.10%         39.160000  \n",
       "3               5      99.949997      -216.00%       -431.779999  \n",
       "4               5      50.000000        13.90%         20.879999  "
      ]
     },
     "execution_count": 62,
     "metadata": {},
     "output_type": "execute_result"
    }
   ],
   "source": [
    "customer_order = pd.merge(customer,order, on='customer_id', how='inner')\n",
    "customer_order.head()"
   ]
  },
  {
   "cell_type": "markdown",
   "metadata": {},
   "source": [
    "### About data"
   ]
  },
  {
   "cell_type": "code",
   "execution_count": 63,
   "metadata": {},
   "outputs": [
    {
     "name": "stdout",
     "output_type": "stream",
     "text": [
      "<class 'pandas.core.frame.DataFrame'>\n",
      "RangeIndex: 1363790 entries, 0 to 1363789\n",
      "Data columns (total 17 columns):\n",
      " #   Column                  Non-Null Count    Dtype  \n",
      "---  ------                  --------------    -----  \n",
      " 0   customer_city           1363790 non-null  object \n",
      " 1   customer_country        1363790 non-null  object \n",
      " 2   customer_fname          1363790 non-null  object \n",
      " 3   customer_id             1363790 non-null  int64  \n",
      " 4   customer_segment        1363790 non-null  object \n",
      " 5   customer_state          1363790 non-null  object \n",
      " 6   customer_zipcode        1363787 non-null  float64\n",
      " 7   additional_order_items  1351278 non-null  object \n",
      " 8   category_name           1363790 non-null  object \n",
      " 9   market                  1363790 non-null  object \n",
      " 10  order_date              1363790 non-null  object \n",
      " 11  order_id                1363790 non-null  int64  \n",
      " 12  order_region            1363790 non-null  object \n",
      " 13  order_quantity          1363790 non-null  int64  \n",
      " 14  product_price           1363790 non-null  float64\n",
      " 15  profit_margin           1363790 non-null  object \n",
      " 16  profit_per_order        1363790 non-null  float64\n",
      "dtypes: float64(3), int64(3), object(11)\n",
      "memory usage: 176.9+ MB\n"
     ]
    }
   ],
   "source": [
    "customer_order.info()"
   ]
  },
  {
   "cell_type": "markdown",
   "metadata": {},
   "source": [
    "###  Check duplicate values"
   ]
  },
  {
   "cell_type": "code",
   "execution_count": 64,
   "metadata": {},
   "outputs": [
    {
     "name": "stdout",
     "output_type": "stream",
     "text": [
      "<class 'pandas.core.frame.DataFrame'>\n",
      "Index: 1248048 entries, 14 to 1363789\n",
      "Data columns (total 17 columns):\n",
      " #   Column                  Non-Null Count    Dtype  \n",
      "---  ------                  --------------    -----  \n",
      " 0   customer_city           1248048 non-null  object \n",
      " 1   customer_country        1248048 non-null  object \n",
      " 2   customer_fname          1248048 non-null  object \n",
      " 3   customer_id             1248048 non-null  int64  \n",
      " 4   customer_segment        1248048 non-null  object \n",
      " 5   customer_state          1248048 non-null  object \n",
      " 6   customer_zipcode        1248048 non-null  float64\n",
      " 7   additional_order_items  1236560 non-null  object \n",
      " 8   category_name           1248048 non-null  object \n",
      " 9   market                  1248048 non-null  object \n",
      " 10  order_date              1248048 non-null  object \n",
      " 11  order_id                1248048 non-null  int64  \n",
      " 12  order_region            1248048 non-null  object \n",
      " 13  order_quantity          1248048 non-null  int64  \n",
      " 14  product_price           1248048 non-null  float64\n",
      " 15  profit_margin           1248048 non-null  object \n",
      " 16  profit_per_order        1248048 non-null  float64\n",
      "dtypes: float64(3), int64(3), object(11)\n",
      "memory usage: 171.4+ MB\n"
     ]
    }
   ],
   "source": [
    "dup = customer_order[customer_order.duplicated()]\n",
    "dup.info()"
   ]
  },
  {
   "cell_type": "markdown",
   "metadata": {},
   "source": [
    "### Drop duplicate values"
   ]
  },
  {
   "cell_type": "code",
   "execution_count": 65,
   "metadata": {},
   "outputs": [
    {
     "name": "stdout",
     "output_type": "stream",
     "text": [
      "<class 'pandas.core.frame.DataFrame'>\n",
      "Index: 115742 entries, 0 to 1363787\n",
      "Data columns (total 17 columns):\n",
      " #   Column                  Non-Null Count   Dtype  \n",
      "---  ------                  --------------   -----  \n",
      " 0   customer_city           115742 non-null  object \n",
      " 1   customer_country        115742 non-null  object \n",
      " 2   customer_fname          115742 non-null  object \n",
      " 3   customer_id             115742 non-null  int64  \n",
      " 4   customer_segment        115742 non-null  object \n",
      " 5   customer_state          115742 non-null  object \n",
      " 6   customer_zipcode        115739 non-null  float64\n",
      " 7   additional_order_items  114718 non-null  object \n",
      " 8   category_name           115742 non-null  object \n",
      " 9   market                  115742 non-null  object \n",
      " 10  order_date              115742 non-null  object \n",
      " 11  order_id                115742 non-null  int64  \n",
      " 12  order_region            115742 non-null  object \n",
      " 13  order_quantity          115742 non-null  int64  \n",
      " 14  product_price           115742 non-null  float64\n",
      " 15  profit_margin           115742 non-null  object \n",
      " 16  profit_per_order        115742 non-null  float64\n",
      "dtypes: float64(3), int64(3), object(11)\n",
      "memory usage: 15.9+ MB\n"
     ]
    }
   ],
   "source": [
    "customer_order = customer_order.drop_duplicates()\n",
    "customer_order.info()"
   ]
  },
  {
   "cell_type": "code",
   "execution_count": 66,
   "metadata": {},
   "outputs": [],
   "source": [
    "customer_order.to_csv('customer_order.csv', index=False)"
   ]
  },
  {
   "cell_type": "markdown",
   "metadata": {},
   "source": [
    "### Convert data types"
   ]
  },
  {
   "cell_type": "code",
   "execution_count": 67,
   "metadata": {},
   "outputs": [],
   "source": [
    "customer_order['customer_id'] = customer_order['customer_id'].astype('object')\n",
    "customer_order['customer_zipcode'] = customer_order['customer_zipcode'].astype('object')\n",
    "customer_order['order_id'] = customer_order['order_id'].astype('object')"
   ]
  },
  {
   "cell_type": "code",
   "execution_count": 68,
   "metadata": {},
   "outputs": [],
   "source": [
    "## profit_margin\n",
    "customer_order['profit_margin'] = customer_order['profit_margin'].str.replace('%', '', regex=True)\n",
    "customer_order['profit_margin'] = customer_order['profit_margin'].astype('float')\n",
    "customer_order['profit_margin'] = customer_order['profit_margin']*0.01\n"
   ]
  },
  {
   "cell_type": "code",
   "execution_count": 69,
   "metadata": {},
   "outputs": [
    {
     "name": "stdout",
     "output_type": "stream",
     "text": [
      "<class 'pandas.core.frame.DataFrame'>\n",
      "Index: 115742 entries, 0 to 1363787\n",
      "Data columns (total 17 columns):\n",
      " #   Column                  Non-Null Count   Dtype  \n",
      "---  ------                  --------------   -----  \n",
      " 0   customer_city           115742 non-null  object \n",
      " 1   customer_country        115742 non-null  object \n",
      " 2   customer_fname          115742 non-null  object \n",
      " 3   customer_id             115742 non-null  object \n",
      " 4   customer_segment        115742 non-null  object \n",
      " 5   customer_state          115742 non-null  object \n",
      " 6   customer_zipcode        115739 non-null  object \n",
      " 7   additional_order_items  114718 non-null  object \n",
      " 8   category_name           115742 non-null  object \n",
      " 9   market                  115742 non-null  object \n",
      " 10  order_date              115742 non-null  object \n",
      " 11  order_id                115742 non-null  object \n",
      " 12  order_region            115742 non-null  object \n",
      " 13  order_quantity          115742 non-null  int64  \n",
      " 14  product_price           115742 non-null  float64\n",
      " 15  profit_margin           115742 non-null  float64\n",
      " 16  profit_per_order        115742 non-null  float64\n",
      "dtypes: float64(3), int64(1), object(13)\n",
      "memory usage: 15.9+ MB\n"
     ]
    }
   ],
   "source": [
    "customer_order.info()"
   ]
  },
  {
   "cell_type": "markdown",
   "metadata": {},
   "source": [
    "### Missing Values"
   ]
  },
  {
   "cell_type": "code",
   "execution_count": 70,
   "metadata": {},
   "outputs": [
    {
     "data": {
      "text/plain": [
       "customer_city                0\n",
       "customer_country             0\n",
       "customer_fname               0\n",
       "customer_id                  0\n",
       "customer_segment             0\n",
       "customer_state               0\n",
       "customer_zipcode             3\n",
       "additional_order_items    1024\n",
       "category_name                0\n",
       "market                       0\n",
       "order_date                   0\n",
       "order_id                     0\n",
       "order_region                 0\n",
       "order_quantity               0\n",
       "product_price                0\n",
       "profit_margin                0\n",
       "profit_per_order             0\n",
       "dtype: int64"
      ]
     },
     "execution_count": 70,
     "metadata": {},
     "output_type": "execute_result"
    }
   ],
   "source": [
    "customer_order.isna().sum()"
   ]
  },
  {
   "cell_type": "code",
   "execution_count": 71,
   "metadata": {},
   "outputs": [
    {
     "data": {
      "text/html": [
       "<div>\n",
       "<style scoped>\n",
       "    .dataframe tbody tr th:only-of-type {\n",
       "        vertical-align: middle;\n",
       "    }\n",
       "\n",
       "    .dataframe tbody tr th {\n",
       "        vertical-align: top;\n",
       "    }\n",
       "\n",
       "    .dataframe thead th {\n",
       "        text-align: right;\n",
       "    }\n",
       "</style>\n",
       "<table border=\"1\" class=\"dataframe\">\n",
       "  <thead>\n",
       "    <tr style=\"text-align: right;\">\n",
       "      <th></th>\n",
       "      <th>order_quantity</th>\n",
       "      <th>product_price</th>\n",
       "      <th>profit_margin</th>\n",
       "      <th>profit_per_order</th>\n",
       "    </tr>\n",
       "  </thead>\n",
       "  <tbody>\n",
       "    <tr>\n",
       "      <th>count</th>\n",
       "      <td>115742.000000</td>\n",
       "      <td>115742.000000</td>\n",
       "      <td>115742.000000</td>\n",
       "      <td>115742.000000</td>\n",
       "    </tr>\n",
       "    <tr>\n",
       "      <th>mean</th>\n",
       "      <td>2.551546</td>\n",
       "      <td>146.500997</td>\n",
       "      <td>0.108755</td>\n",
       "      <td>22.585058</td>\n",
       "    </tr>\n",
       "    <tr>\n",
       "      <th>std</th>\n",
       "      <td>1.683875</td>\n",
       "      <td>150.403614</td>\n",
       "      <td>0.419915</td>\n",
       "      <td>108.638207</td>\n",
       "    </tr>\n",
       "    <tr>\n",
       "      <th>min</th>\n",
       "      <td>1.000000</td>\n",
       "      <td>9.990000</td>\n",
       "      <td>-2.750000</td>\n",
       "      <td>-4274.979980</td>\n",
       "    </tr>\n",
       "    <tr>\n",
       "      <th>25%</th>\n",
       "      <td>1.000000</td>\n",
       "      <td>50.000000</td>\n",
       "      <td>0.062000</td>\n",
       "      <td>7.200000</td>\n",
       "    </tr>\n",
       "    <tr>\n",
       "      <th>50%</th>\n",
       "      <td>2.000000</td>\n",
       "      <td>99.989998</td>\n",
       "      <td>0.242000</td>\n",
       "      <td>32.040001</td>\n",
       "    </tr>\n",
       "    <tr>\n",
       "      <th>75%</th>\n",
       "      <td>4.000000</td>\n",
       "      <td>199.990005</td>\n",
       "      <td>0.336000</td>\n",
       "      <td>65.727503</td>\n",
       "    </tr>\n",
       "    <tr>\n",
       "      <th>max</th>\n",
       "      <td>5.000000</td>\n",
       "      <td>1999.989990</td>\n",
       "      <td>0.500000</td>\n",
       "      <td>911.799988</td>\n",
       "    </tr>\n",
       "  </tbody>\n",
       "</table>\n",
       "</div>"
      ],
      "text/plain": [
       "       order_quantity  product_price  profit_margin  profit_per_order\n",
       "count   115742.000000  115742.000000  115742.000000     115742.000000\n",
       "mean         2.551546     146.500997       0.108755         22.585058\n",
       "std          1.683875     150.403614       0.419915        108.638207\n",
       "min          1.000000       9.990000      -2.750000      -4274.979980\n",
       "25%          1.000000      50.000000       0.062000          7.200000\n",
       "50%          2.000000      99.989998       0.242000         32.040001\n",
       "75%          4.000000     199.990005       0.336000         65.727503\n",
       "max          5.000000    1999.989990       0.500000        911.799988"
      ]
     },
     "execution_count": 71,
     "metadata": {},
     "output_type": "execute_result"
    }
   ],
   "source": [
    "customer_order.describe()"
   ]
  },
  {
   "cell_type": "code",
   "execution_count": 72,
   "metadata": {},
   "outputs": [
    {
     "data": {
      "text/plain": [
       "customer_city               563\n",
       "customer_country              2\n",
       "customer_fname              761\n",
       "customer_id               18006\n",
       "customer_segment              3\n",
       "customer_state               46\n",
       "customer_zipcode            995\n",
       "additional_order_items       49\n",
       "category_name                50\n",
       "market                        5\n",
       "order_date                  731\n",
       "order_id                  42725\n",
       "order_region                 23\n",
       "order_quantity                5\n",
       "product_price                75\n",
       "profit_margin              1672\n",
       "profit_per_order          19342\n",
       "dtype: int64"
      ]
     },
     "execution_count": 72,
     "metadata": {},
     "output_type": "execute_result"
    }
   ],
   "source": [
    "customer_order.nunique()"
   ]
  },
  {
   "cell_type": "code",
   "execution_count": 73,
   "metadata": {},
   "outputs": [
    {
     "data": {
      "text/plain": [
       "Index(['customer_city', 'customer_country', 'customer_fname', 'customer_id',\n",
       "       'customer_segment', 'customer_state', 'customer_zipcode',\n",
       "       'additional_order_items', 'category_name', 'market', 'order_date',\n",
       "       'order_id', 'order_region', 'order_quantity', 'product_price',\n",
       "       'profit_margin', 'profit_per_order'],\n",
       "      dtype='object')"
      ]
     },
     "execution_count": 73,
     "metadata": {},
     "output_type": "execute_result"
    }
   ],
   "source": [
    "customer_order.columns"
   ]
  },
  {
   "cell_type": "markdown",
   "metadata": {},
   "source": [
    "## Univariate - Bivariate - Multivariate Analysis"
   ]
  },
  {
   "cell_type": "code",
   "execution_count": 74,
   "metadata": {},
   "outputs": [
    {
     "data": {
      "text/plain": [
       "array([[<AxesSubplot: title={'center': 'order_quantity'}>,\n",
       "        <AxesSubplot: title={'center': 'product_price'}>],\n",
       "       [<AxesSubplot: title={'center': 'profit_margin'}>,\n",
       "        <AxesSubplot: title={'center': 'profit_per_order'}>]],\n",
       "      dtype=object)"
      ]
     },
     "execution_count": 74,
     "metadata": {},
     "output_type": "execute_result"
    },
    {
     "data": {
      "image/png": "[encoded data removed]",
      "text/plain": [
       "<Figure size 640x480 with 4 Axes>"
      ]
     },
     "metadata": {},
     "output_type": "display_data"
    }
   ],
   "source": [
    "customer_order.hist()"
   ]
  },
  {
   "cell_type": "code",
   "execution_count": 75,
   "metadata": {},
   "outputs": [
    {
     "data": {
      "image/png": "[encoded data removed]",
      "text/plain": [
       "<Figure size 644x500 with 1 Axes>"
      ]
     },
     "metadata": {},
     "output_type": "display_data"
    }
   ],
   "source": [
    "sns.relplot(x = 'product_price', y= 'profit_per_order', hue='customer_country',data = customer_order)\n",
    "plt.show()"
   ]
  },
  {
   "cell_type": "code",
   "execution_count": 76,
   "metadata": {},
   "outputs": [
    {
     "name": "stderr",
     "output_type": "stream",
     "text": [
      "C:\\Users\\DELL\\AppData\\Local\\Temp\\ipykernel_23872\\3922961794.py:1: UserWarning: \n",
      "\n",
      "`distplot` is a deprecated function and will be removed in seaborn v0.14.0.\n",
      "\n",
      "Please adapt your code to use either `displot` (a figure-level function with\n",
      "similar flexibility) or `histplot` (an axes-level function for histograms).\n",
      "\n",
      "For a guide to updating your code to use the new functions, please see\n",
      "https://gist.github.com/mwaskom/de44147ed2974457ad6372750bbe5751\n",
      "\n",
      "  sns.distplot(customer_order['profit_margin'])\n"
     ]
    },
    {
     "data": {
      "image/png": "[encoded data removed]",
      "text/plain": [
       "<Figure size 640x480 with 1 Axes>"
      ]
     },
     "metadata": {},
     "output_type": "display_data"
    }
   ],
   "source": [
    "sns.distplot(customer_order['profit_margin'])\n",
    "plt.show()"
   ]
  },
  {
   "cell_type": "code",
   "execution_count": 77,
   "metadata": {},
   "outputs": [
    {
     "data": {
      "image/png": "[encoded data removed]",
      "text/plain": [
       "<Figure size 500x500 with 1 Axes>"
      ]
     },
     "metadata": {},
     "output_type": "display_data"
    }
   ],
   "source": [
    "sns.catplot(x = 'customer_country', kind = 'count', data = customer_order)\n",
    "plt.show()"
   ]
  },
  {
   "cell_type": "code",
   "execution_count": 78,
   "metadata": {},
   "outputs": [
    {
     "data": {
      "image/png": "[encoded data removed]",
      "text/plain": [
       "<Figure size 500x500 with 1 Axes>"
      ]
     },
     "metadata": {},
     "output_type": "display_data"
    }
   ],
   "source": [
    "sns.catplot(x = 'customer_segment', kind = 'count', data = customer_order)\n",
    "plt.show()"
   ]
  }
 ],
 "metadata": {
  "kernelspec": {
   "display_name": "Python 3",
   "language": "python",
   "name": "python3"
  },
  "language_info": {
   "codemirror_mode": {
    "name": "ipython",
    "version": 3
   },
   "file_extension": ".py",
   "mimetype": "text/x-python",
   "name": "python",
   "nbconvert_exporter": "python",
   "pygments_lexer": "ipython3",
   "version": "3.11.0"
  }
 },
 "nbformat": 4,
 "nbformat_minor": 2
}
